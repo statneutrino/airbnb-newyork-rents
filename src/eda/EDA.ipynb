{
 "cells": [
  {
   "cell_type": "markdown",
   "id": "4fc8b84a",
   "metadata": {},
   "source": [
    "# Exploratory Data Analysis (EDA) for ML Pipeline for Short-Term Rental Prices in NYC"
   ]
  },
  {
   "cell_type": "markdown",
   "id": "9f488732",
   "metadata": {},
   "source": [
    "First we login to weights and biases, download latest version of sample.csv"
   ]
  },
  {
   "cell_type": "code",
   "execution_count": 1,
   "id": "6d2c1024",
   "metadata": {},
   "outputs": [
    {
     "name": "stderr",
     "output_type": "stream",
     "text": [
      "\u001b[34m\u001b[1mwandb\u001b[0m: Currently logged in as: \u001b[33mstatneutrino\u001b[0m (use `wandb login --relogin` to force relogin)\n",
      "\u001b[34m\u001b[1mwandb\u001b[0m: wandb version 0.12.7 is available!  To upgrade, please run:\n",
      "\u001b[34m\u001b[1mwandb\u001b[0m:  $ pip install wandb --upgrade\n"
     ]
    },
    {
     "data": {
      "text/html": [
       "\n",
       "                Tracking run with wandb version 0.10.31<br/>\n",
       "                Syncing run <strong style=\"color:#cdcd00\">divine-star-3</strong> to <a href=\"https://wandb.ai\" target=\"_blank\">Weights & Biases</a> <a href=\"https://docs.wandb.com/integrations/jupyter.html\" target=\"_blank\">(Documentation)</a>.<br/>\n",
       "                Project page: <a href=\"https://wandb.ai/statneutrino/nyc_airbnb\" target=\"_blank\">https://wandb.ai/statneutrino/nyc_airbnb</a><br/>\n",
       "                Run page: <a href=\"https://wandb.ai/statneutrino/nyc_airbnb/runs/3078mmfi\" target=\"_blank\">https://wandb.ai/statneutrino/nyc_airbnb/runs/3078mmfi</a><br/>\n",
       "                Run data is saved locally in <code>/home/statneutrino/udacity/airbnb-newyork-rents/src/eda/wandb/run-20211120_222750-3078mmfi</code><br/><br/>\n",
       "            "
      ],
      "text/plain": [
       "<IPython.core.display.HTML object>"
      ]
     },
     "metadata": {},
     "output_type": "display_data"
    }
   ],
   "source": [
    " import wandb\n",
    " import pandas as pd\n",
    "\n",
    " run = wandb.init(project=\"nyc_airbnb\", group=\"eda\", save_code=True)\n",
    " local_path = wandb.use_artifact(\"sample.csv:latest\").file()\n",
    " df = pd.read_csv(local_path)"
   ]
  },
  {
   "cell_type": "markdown",
   "id": "f16d19f4",
   "metadata": {},
   "source": [
    "Now we create a pandas profile in order to do some exploratory analysis"
   ]
  },
  {
   "cell_type": "code",
   "execution_count": 2,
   "id": "30d3370a",
   "metadata": {},
   "outputs": [
    {
     "data": {
      "application/vnd.jupyter.widget-view+json": {
       "model_id": "52cd295b2c7841b7ab671f7e58323ccb",
       "version_major": 2,
       "version_minor": 0
      },
      "text/plain": [
       "Summarize dataset:   0%|          | 0/29 [00:00<?, ?it/s]"
      ]
     },
     "metadata": {},
     "output_type": "display_data"
    },
    {
     "data": {
      "application/vnd.jupyter.widget-view+json": {
       "model_id": "512bed24cb5d4f5ea943c552934f9d2d",
       "version_major": 2,
       "version_minor": 0
      },
      "text/plain": [
       "Generate report structure:   0%|          | 0/1 [00:00<?, ?it/s]"
      ]
     },
     "metadata": {},
     "output_type": "display_data"
    },
    {
     "data": {
      "application/vnd.jupyter.widget-view+json": {
       "model_id": "",
       "version_major": 2,
       "version_minor": 0
      },
      "text/plain": [
       "Render widgets:   0%|          | 0/1 [00:00<?, ?it/s]"
      ]
     },
     "metadata": {},
     "output_type": "display_data"
    },
    {
     "data": {
      "application/vnd.jupyter.widget-view+json": {
       "model_id": "23a8101495074f8da98625e831fa75c2",
       "version_major": 2,
       "version_minor": 0
      },
      "text/plain": [
       "VBox(children=(Tab(children=(Tab(children=(GridBox(children=(VBox(children=(GridspecLayout(children=(HTML(valu…"
      ]
     },
     "metadata": {},
     "output_type": "display_data"
    }
   ],
   "source": [
    "import pandas_profiling\n",
    "\n",
    "profile = pandas_profiling.ProfileReport(df)\n",
    "profile.to_widgets()"
   ]
  },
  {
   "cell_type": "markdown",
   "id": "51383ead",
   "metadata": {},
   "source": [
    "We can see the following issues:\n",
    "- there are missing values\n",
    "- feature \"last_review\" is a date but it is in string format.\n",
    "- \"price\" column has outliers\n",
    "- \"minimum nights\" is skewed"
   ]
  },
  {
   "cell_type": "code",
   "execution_count": 3,
   "id": "0151bfef",
   "metadata": {},
   "outputs": [
    {
     "name": "stderr",
     "output_type": "stream",
     "text": [
      "/home/statneutrino/anaconda3/envs/mlflow-8af91d08d13566aada991fdb38ca18c4510876b2/lib/python3.9/site-packages/seaborn/distributions.py:2557: FutureWarning: `distplot` is a deprecated function and will be removed in a future version. Please adapt your code to use either `displot` (a figure-level function with similar flexibility) or `histplot` (an axes-level function for histograms).\n",
      "  warnings.warn(msg, FutureWarning)\n"
     ]
    },
    {
     "data": {
      "image/png": "[encoded data removed]",
      "text/plain": [
       "<Figure size 576x360 with 1 Axes>"
      ]
     },
     "metadata": {},
     "output_type": "display_data"
    }
   ],
   "source": [
    "# View histogram of price column\n",
    "import seaborn as sns\n",
    "\n",
    "sns.set(style='whitegrid', palette=\"deep\", font_scale=1.1, rc={\"figure.figsize\": [8, 5]})\n",
    "sns.distplot(\n",
    "    df['price'], norm_hist=False, kde=False, bins=20, hist_kws={\"alpha\": 1}\n",
    ").set(xlabel='Rent Price', ylabel='Count');"
   ]
  },
  {
   "cell_type": "code",
   "execution_count": 11,
   "id": "0cdbb26e",
   "metadata": {},
   "outputs": [],
   "source": [
    "?pd.value_counts\n"
   ]
  },
  {
   "cell_type": "code",
   "execution_count": 14,
   "id": "f3445e01",
   "metadata": {},
   "outputs": [
    {
     "name": "stdout",
     "output_type": "stream",
     "text": [
      "(-0.25, 105.083]        19926\n",
      "(105.083, 209.167]         47\n",
      "(313.25, 417.333]          17\n",
      "(209.167, 313.25]           6\n",
      "(937.75, 1041.833]          2\n",
      "(417.333, 521.417]          1\n",
      "(1145.917, 1250.0]          1\n",
      "(521.417, 625.5]            0\n",
      "(625.5, 729.583]            0\n",
      "(729.583, 833.667]          0\n",
      "(833.667, 937.75]           0\n",
      "(1041.833, 1145.917]        0\n",
      "Name: minimum_nights, dtype: int64\n"
     ]
    },
    {
     "name": "stderr",
     "output_type": "stream",
     "text": [
      "/home/statneutrino/anaconda3/envs/mlflow-8af91d08d13566aada991fdb38ca18c4510876b2/lib/python3.9/site-packages/seaborn/distributions.py:2557: FutureWarning: `distplot` is a deprecated function and will be removed in a future version. Please adapt your code to use either `displot` (a figure-level function with similar flexibility) or `histplot` (an axes-level function for histograms).\n",
      "  warnings.warn(msg, FutureWarning)\n"
     ]
    },
    {
     "data": {
      "image/png": "[encoded data removed]",
      "text/plain": [
       "<Figure size 576x360 with 1 Axes>"
      ]
     },
     "metadata": {},
     "output_type": "display_data"
    }
   ],
   "source": [
    "# View histogram of minimum_nights column\n",
    "sns.set(style='whitegrid', palette=\"deep\", font_scale=1.1, rc={\"figure.figsize\": [8, 5]})\n",
    "sns.distplot(\n",
    "    df['minimum_nights'], norm_hist=False, kde=False, bins=20, hist_kws={\"alpha\": 1}\n",
    ").set(xlabel='Minimum Nights', ylabel='Count');\n",
    "\n",
    "#Breakdown of value counts for minimum_nights\n",
    "print(df.minimum_nights.value_counts(bins=12))"
   ]
  },
  {
   "cell_type": "markdown",
   "id": "dbd84e0e",
   "metadata": {},
   "source": [
    "We drop outliers (price < 10 or > 350) and convert last_review to datetime class"
   ]
  },
  {
   "cell_type": "code",
   "execution_count": 15,
   "id": "25fcd304",
   "metadata": {},
   "outputs": [],
   "source": [
    "# Drop outliers\n",
    "min_price = 10\n",
    "max_price = 350\n",
    "idx = df['price'].between(min_price, max_price)\n",
    "df = df[idx].copy()\n",
    "# Convert last_review to datetime\n",
    "df['last_review'] = pd.to_datetime(df['last_review'])"
   ]
  },
  {
   "cell_type": "code",
   "execution_count": 16,
   "id": "ebfedc0a",
   "metadata": {},
   "outputs": [
    {
     "data": {
      "application/vnd.jupyter.widget-view+json": {
       "model_id": "a42e919a6f114a9bb98d58ba948ac059",
       "version_major": 2,
       "version_minor": 0
      },
      "text/plain": [
       "Summarize dataset:   0%|          | 0/30 [00:00<?, ?it/s]"
      ]
     },
     "metadata": {},
     "output_type": "display_data"
    },
    {
     "data": {
      "application/vnd.jupyter.widget-view+json": {
       "model_id": "10ba482dc6294fac970a7d02114d41a2",
       "version_major": 2,
       "version_minor": 0
      },
      "text/plain": [
       "Generate report structure:   0%|          | 0/1 [00:00<?, ?it/s]"
      ]
     },
     "metadata": {},
     "output_type": "display_data"
    },
    {
     "data": {
      "application/vnd.jupyter.widget-view+json": {
       "model_id": "",
       "version_major": 2,
       "version_minor": 0
      },
      "text/plain": [
       "Render widgets:   0%|          | 0/1 [00:00<?, ?it/s]"
      ]
     },
     "metadata": {},
     "output_type": "display_data"
    },
    {
     "data": {
      "application/vnd.jupyter.widget-view+json": {
       "model_id": "443867b40b9a431495179a0055f12a98",
       "version_major": 2,
       "version_minor": 0
      },
      "text/plain": [
       "VBox(children=(Tab(children=(Tab(children=(GridBox(children=(VBox(children=(GridspecLayout(children=(HTML(valu…"
      ]
     },
     "metadata": {},
     "output_type": "display_data"
    }
   ],
   "source": [
    "profile_fixed = pandas_profiling.ProfileReport(df)\n",
    "profile_fixed.to_widgets()"
   ]
  },
  {
   "cell_type": "code",
   "execution_count": 18,
   "id": "c9b58f5a",
   "metadata": {},
   "outputs": [
    {
     "name": "stderr",
     "output_type": "stream",
     "text": [
      "/home/statneutrino/anaconda3/envs/mlflow-8af91d08d13566aada991fdb38ca18c4510876b2/lib/python3.9/site-packages/seaborn/distributions.py:2557: FutureWarning: `distplot` is a deprecated function and will be removed in a future version. Please adapt your code to use either `displot` (a figure-level function with similar flexibility) or `histplot` (an axes-level function for histograms).\n",
      "  warnings.warn(msg, FutureWarning)\n"
     ]
    },
    {
     "data": {
      "image/png": "[encoded data removed]",
      "text/plain": [
       "<Figure size 576x360 with 1 Axes>"
      ]
     },
     "metadata": {},
     "output_type": "display_data"
    }
   ],
   "source": [
    "#Check price column after outliers removed\n",
    "sns.set(style='whitegrid', palette=\"deep\", font_scale=1.1, rc={\"figure.figsize\": [8, 5]})\n",
    "sns.distplot(\n",
    "    df['price'], norm_hist=False, kde=False, bins=20, hist_kws={\"alpha\": 1}\n",
    ").set(xlabel='Rent Price', ylabel='Count');"
   ]
  },
  {
   "cell_type": "code",
   "execution_count": 17,
   "id": "19cc1652",
   "metadata": {},
   "outputs": [
    {
     "data": {
      "text/html": [
       "<br/>Waiting for W&B process to finish, PID 6271<br/>Program ended successfully."
      ],
      "text/plain": [
       "<IPython.core.display.HTML object>"
      ]
     },
     "metadata": {},
     "output_type": "display_data"
    },
    {
     "data": {
      "application/vnd.jupyter.widget-view+json": {
       "model_id": "",
       "version_major": 2,
       "version_minor": 0
      },
      "text/plain": [
       "VBox(children=(Label(value=' 0.44MB of 0.44MB uploaded (0.04MB deduped)\\r'), FloatProgress(value=1.0, max=1.0)…"
      ]
     },
     "metadata": {},
     "output_type": "display_data"
    },
    {
     "data": {
      "text/html": [
       "Find user logs for this run at: <code>/home/statneutrino/udacity/airbnb-newyork-rents/src/eda/wandb/run-20211120_222750-3078mmfi/logs/debug.log</code>"
      ],
      "text/plain": [
       "<IPython.core.display.HTML object>"
      ]
     },
     "metadata": {},
     "output_type": "display_data"
    },
    {
     "data": {
      "text/html": [
       "Find internal logs for this run at: <code>/home/statneutrino/udacity/airbnb-newyork-rents/src/eda/wandb/run-20211120_222750-3078mmfi/logs/debug-internal.log</code>"
      ],
      "text/plain": [
       "<IPython.core.display.HTML object>"
      ]
     },
     "metadata": {},
     "output_type": "display_data"
    },
    {
     "data": {
      "text/html": [
       "Synced 6 W&B file(s), 0 media file(s), 7 artifact file(s) and 1 other file(s)"
      ],
      "text/plain": [
       "<IPython.core.display.HTML object>"
      ]
     },
     "metadata": {},
     "output_type": "display_data"
    },
    {
     "data": {
      "text/html": [
       "\n",
       "                    <br/>Synced <strong style=\"color:#cdcd00\">divine-star-3</strong>: <a href=\"https://wandb.ai/statneutrino/nyc_airbnb/runs/3078mmfi\" target=\"_blank\">https://wandb.ai/statneutrino/nyc_airbnb/runs/3078mmfi</a><br/>\n",
       "                "
      ],
      "text/plain": [
       "<IPython.core.display.HTML object>"
      ]
     },
     "metadata": {},
     "output_type": "display_data"
    }
   ],
   "source": [
    "run.finish()"
   ]
  },
  {
   "cell_type": "code",
   "execution_count": null,
   "id": "59f165b7",
   "metadata": {},
   "outputs": [],
   "source": []
  }
 ],
 "metadata": {
  "kernelspec": {
   "display_name": "Python 3 (ipykernel)",
   "language": "python",
   "name": "python3"
  },
  "language_info": {
   "codemirror_mode": {
    "name": "ipython",
    "version": 3
   },
   "file_extension": ".py",
   "mimetype": "text/x-python",
   "name": "python",
   "nbconvert_exporter": "python",
   "pygments_lexer": "ipython3",
   "version": "3.9.7"
  }
 },
 "nbformat": 4,
 "nbformat_minor": 5
}
